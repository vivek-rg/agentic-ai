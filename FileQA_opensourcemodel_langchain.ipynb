{
 "cells": [
  {
   "cell_type": "markdown",
   "metadata": {
    "id": "K-TDlwy_bwqR"
   },
   "source": [
    "**Setup in Google Colab**"
   ]
  },
  {
   "cell_type": "code",
   "execution_count": null,
   "metadata": {
    "colab": {
     "base_uri": "https://localhost:8080/"
    },
    "id": "NqI4n8FvVCKS",
    "outputId": "6369ea5c-62da-4e19-c4a8-f646fb4a73ca"
   },
   "outputs": [],
   "source": [
    "!pip install langchain langchain-community\n",
    "!pip install faiss-cpu\n",
    "!pip install pypdf python-docx\n",
    "!pip install sentence-transformers\n",
    "!pip install transformers\n"
   ]
  },
  {
   "cell_type": "markdown",
   "metadata": {
    "id": "lBUirtl7b5u7"
   },
   "source": [
    "**Upload File in Colab**"
   ]
  },
  {
   "cell_type": "code",
   "execution_count": null,
   "metadata": {
    "colab": {
     "base_uri": "https://localhost:8080/",
     "height": 90
    },
    "id": "KvUgXfs0VOt9",
    "outputId": "9cef6541-530e-46e1-9a85-1704ef6d3ef9"
   },
   "outputs": [],
   "source": [
    "from google.colab import files\n",
    "uploaded = files.upload()\n",
    "\n",
    "file_path = list(uploaded.keys())[0]\n",
    "print(\"Uploaded:\", file_path)\n"
   ]
  },
  {
   "cell_type": "markdown",
   "metadata": {
    "id": "BTKBoMQYcAUN"
   },
   "source": [
    "**Load & Split Document**"
   ]
  },
  {
   "cell_type": "code",
   "execution_count": null,
   "metadata": {
    "colab": {
     "base_uri": "https://localhost:8080/"
    },
    "id": "3KGPPweZVrpr",
    "outputId": "0d9439a8-9bf1-4f18-a910-6a4304b9d587"
   },
   "outputs": [],
   "source": [
    "from langchain_community.document_loaders import PyPDFLoader, TextLoader, Docx2txtLoader\n",
    "from langchain.text_splitter import RecursiveCharacterTextSplitter\n",
    "\n",
    "# Pick loader based on file type\n",
    "if file_path.endswith(\".pdf\"):\n",
    "    loader = PyPDFLoader(file_path)\n",
    "elif file_path.endswith(\".docx\"):\n",
    "    loader = Docx2txtLoader(file_path)\n",
    "else:\n",
    "    loader = TextLoader(file_path)\n",
    "\n",
    "docs = loader.load()\n",
    "\n",
    "# Split into smaller chunks\n",
    "splitter = RecursiveCharacterTextSplitter(chunk_size=500, chunk_overlap=100)\n",
    "documents = splitter.split_documents(docs)\n",
    "\n",
    "print(f\"Total Chunks: {len(documents)}\")\n"
   ]
  },
  {
   "cell_type": "markdown",
   "metadata": {
    "id": "etxVIUDKcF6E"
   },
   "source": [
    "**Create Embeddings & Vector Store**"
   ]
  },
  {
   "cell_type": "code",
   "execution_count": null,
   "metadata": {
    "colab": {
     "base_uri": "https://localhost:8080/",
     "height": 528,
     "referenced_widgets": [
      "d9dc43632e7841c498f7de78aa69a4ea",
      "3362bd6628934dcaa87fc6923ac39ffd",
      "e4d61778d90a489e8915a9a7fedd4c19",
      "f2ef4fddb77543ce935c4cd64a94ae4a",
      "96f0c790c709470ea23863cdaab6a423",
      "e37c73511737465980c392dcc0b25d15",
      "55f044002cb04e0ca7937b395f7b792e",
      "6bf612ae6b0c417181a110698bd7e720",
      "3ade00a07a3348d2a74e3ed28bd4a6d8",
      "8a329fb30964443f8d4115e9a51f21c1",
      "835cdbfddb144e9c92bd9219d2c1d422",
      "9f68bee181cf48f3ae0f0350722f8a7b",
      "1fbc8583b0d14f4c951e7dd0f978d0c9",
      "4bcaf5d8499a4be69b02fc3c40c50e61",
      "a7fb314bf5294bf5a4cbb2fbc61e5f25",
      "9be7bb5a6c07431db625bfa4794bed1c",
      "8fb84b3c64564e1fad58f9b59788e688",
      "d57ba1d354274489b6b1f9d4d1eabc04",
      "04a8d67e30764568952dec6dfb1e933c",
      "30cd4f702477449a9352cead39468dd5",
      "cff53a94040344078a4115f40ce9b2be",
      "739a07bb3fd14ee0b5ba82cb3b9df1ce",
      "dcb1aee56f3d479ea569131fe27d9240",
      "92a6e2d8600f4f06a3ec4cf85475f32e",
      "0ada9a6716114562a5ab276367f4e18e",
      "2c48438b11404044bbdd802dee5d5c04",
      "c6bf2318ea8b400586b6f0109d5114ea",
      "cadda2e0fb1d4528b58ba155a0841496",
      "4422f25b1d074bb48c21c8d4150148c5",
      "20fa67052ddb47a69f23d6b75fd18732",
      "b38cb269a9194270aef5a4f068a24006",
      "85cfce2a01a94b31b9b389b9a075a808",
      "e36a184d8ab14d18ae717f99499f01b3",
      "9116d451c07f4db9a13402e81bc078e0",
      "b68f1d01f8eb4ecdb049a13167861c3e",
      "2c3eab504e81416abc91430286aa1974",
      "3102a0f50b384e7e833e36edac6f429b",
      "740d52665e404cda9d5040f76eb5cdfe",
      "86ed0d0027dd49ebb4d8c27a64976686",
      "4a7fdf59c3434f18a8dc400956522735",
      "f5f2ac5e7e98457799b804a9ab4de032",
      "6c3c2fb2ced146feb5c94daaf585fae7",
      "fea8ab986c834eefa4b7528a148962a0",
      "aabf10d734824b6390dbb1769c57d273",
      "89fe44ee35dd46bcaee7985090770d80",
      "9a3bb7bb07c54e9e84f6522a47d7fc6d",
      "afd616a4a4034bd1874df9478e88ffb3",
      "7957b4c8476647578296402f913a7e1c",
      "dff0968e775f43b58fe03187a1c142cf",
      "48a806943d2c4888af373a04bc3fea33",
      "52c39c40b3c5460e993b28ef1026ea95",
      "5021e5da4d3046ba87167ed3caea2c1f",
      "aabed5664a6843908638412582db51ff",
      "ed6127a1554947749b8746eac0a05be0",
      "b2e15fb013154065b9fb0ea72ead7d92",
      "e349f4fbe3b84e9cbca3762acc0c42da",
      "141db8e5ab4f4935ae017d247fedebdd",
      "f50baf3310744183bcc72a1e07eb101e",
      "8e780f5c6b4e4caf84789583472f9a5b",
      "c9861d17a49c4fb488706ee9b1aa6bd2",
      "9da0e2e3f41e410cba1a151be0ab6561",
      "076a9e84cdcd4c3391ce7bd9f13f3601",
      "5bf9987cd4844a16ae32a720a75848fc",
      "6ffa1d6ba9344e2293334474b57417a1",
      "1da893453bad441386d58ba50d78b94b",
      "aca32ccde5984cc78d42638f841e13d6",
      "6c907893a13840c5bbc7a160c7f839af",
      "81602efcf83c4cf6a4748fe7c3995be7",
      "055a231589f84d0dad13712ce5b66f20",
      "a00bd1fb338d477bb4649478ed89c533",
      "acd8aeff9fe14f429dc9a70fe5e573e0",
      "a0c7aa2d99d54fb9a71ac770f9976b3a",
      "b4dadc82b74548468b2f52c213003787",
      "15081397b0a34f04ab6b6d89774f48f3",
      "f0a20387139a44bd88ee050045704186",
      "1531fb19de0d44ba95e8f54d71fda19c",
      "d6fd0403723947f79898c4922a6662cf",
      "a432d7520a2b47f895f3800800985473",
      "aa19b8720d7b44a1b4a3717cf332617b",
      "38b31785a5f24cfab612dcc584e190ff",
      "2acf75bc41cf45f7b16d7722d06cb3ff",
      "7ee0c9f557074b1abbbcbe615dae3e23",
      "8dcaa835690e4279a5c1cbbf17b3bc54",
      "8636d5e709e94e10a1554aca95e407fd",
      "6ca77e475a76436dbbb2b0d1460db3e6",
      "073571091f6d41bbb7285464cb279852",
      "e67e9e516d874936b46972ef101f44d4",
      "22e446eac9a943ddb45c03ee3488900a",
      "c9eb09b67b1a424494cbd4abab0059a6",
      "61b3197474cd4c70a0acb11e12280fda",
      "f6706806e617497c89d7c35552035237",
      "08a4b50c32184b0bac3b47ec0ca24fad",
      "162e5119af394a0197acb22d567c6934",
      "8bd57ad980a14f18af981ae08e88c834",
      "41d048f6521d48f59fa0637ccefc52ce",
      "118196aff9804b4b97f9310b3cdda9a8",
      "f9347924f85d4315add216a1117a3073",
      "a9fc5a786cd34138ba42ed060ea3c503",
      "c5dd8f137aa94b9992b99f51f886970e",
      "6e81167911e84dcea1511054fb9f374f",
      "43008b31bf584bd9bace4cdb26079cb0",
      "5a4dafe6267f421c9c211719a90beec6",
      "16736412f14d43c787e9610f9be71101",
      "0285f2269d104cdbafcb137cea617ad5",
      "87885ae1d82b4dd2ab54f8f9d482e8a5",
      "ab95afb726294b53bd35efaba38f0423",
      "511f5874fe2f45b7852ae851200b134a",
      "f9753f06a878429a931fc0fa35cecd12",
      "3ae638a109c546df998b985dd9f9513b",
      "7c3a9777eda84e2ebd1e83769b7b3d2a",
      "6f8afa2fb4414c7f84240a0865144ea9",
      "52d1363ecd1c41bc98ab4a1c27732a56",
      "e08de181613c4f569e946187bcf5e08b",
      "a26c4a7ed33243fd93793d7874bb49a8",
      "0fc6c0b481624683bd1f77ab5e803c1b",
      "9e744faf7b2d42d996efe4f78767cad4",
      "867778b3e52b4e0fa84960116040e2a3",
      "c1579756681249178cdd6e9983419f4d",
      "25d1c43cfb8b457297630c8cd3e83921",
      "9a9ec22f36d249248f5cbf51ba227a10",
      "274dba01b7c2441abd36ba663eac228b"
     ]
    },
    "id": "SrqlS3a0VuQq",
    "outputId": "b1b814f3-64e5-4abc-a548-23fd51a4f0bc"
   },
   "outputs": [],
   "source": [
    "from langchain_community.embeddings import HuggingFaceEmbeddings\n",
    "from langchain_community.vectorstores import FAISS\n",
    "\n",
    "# Small + Fast embeddings\n",
    "embeddings = HuggingFaceEmbeddings(model_name=\"sentence-transformers/all-MiniLM-L6-v2\")\n",
    "\n",
    "vectorstore = FAISS.from_documents(documents, embeddings)\n"
   ]
  },
  {
   "cell_type": "markdown",
   "metadata": {
    "id": "jlW8tP_HcQJT"
   },
   "source": [
    "**Load an Open-Source LLM**"
   ]
  },
  {
   "cell_type": "code",
   "execution_count": null,
   "metadata": {
    "colab": {
     "base_uri": "https://localhost:8080/",
     "height": 313,
     "referenced_widgets": [
      "e4544063be1a49c4901369f7cd046f29",
      "b4f30e9f9c2b4ee09011a6792e7df046",
      "a6175fba6dae42b5842bf1ae7ee86303",
      "9017299617e8445ba8ef3f31125eab4f",
      "bda532809fb74dc7aa4c7c2be50ce8e7",
      "e9e8ebbac6764a14a2009532aed63f54",
      "9d8adeb1c1164eb5869e272f21d07e0f",
      "a6ae6c20828748f2904d51a4d084bab7",
      "bc37deecad0c468b9d3277fc3b55af45",
      "d61ce9107e1c49f8829b7b7c68d29f0c",
      "59d87b47a04941299d622403d5e9b35f",
      "e6cd99c053494ba7812c37d1e88e76ad",
      "7d40ad720e504864833e6222a1a7de8a",
      "5f97a74743a94caaa313996570daeb7b",
      "0cc0c741f43c4d31b003ecc267714ba8",
      "06ef7502cbc94c9f8cbb2a63dac86c53",
      "507af4bd438a4345b609cebdbae7a812",
      "01295243b828412b83aa94e3bb124091",
      "766161598ac641e6bc04f94dfe1bfca4",
      "37158571521f4ac0b76272e0ac34ce85",
      "636220865ae94455b577f6734ab063fe",
      "a184bbfede204f14a34ed8d5923e7149",
      "2fa8da943d57486597f2c05a2a0d687d",
      "edb917f3e8b04fd0b3fb3e62927bb012",
      "382d6b40ed7e4144a7b48f91929840a8",
      "7ae8fd7bee244d6388c3e81cbfc3856a",
      "115ca4349de04c5fb680d0a8adca6135",
      "5ce6ba1ae3d241548c6aac8dc62d4309",
      "40ad5e362b78402389ec6db955589d30",
      "12f15774da8847859129896d0c1966ab",
      "fb2fd5b453a04d139ea62165b2c9ca05",
      "54f927f2ac834fa5a77622f0855c4ccf",
      "f4151ca2673642da8ae55edc17628e50",
      "1efdeabb04324ce0961def239127a386",
      "57cdd469b55d48ceb7cd832f9799c619",
      "a56cebdcb5bc447a8bf5bbbe20626193",
      "8b179335f5cb498eb89d9727aa03eee4",
      "f0339419a7bf48fc9abc5ef2394ca863",
      "b5530e6a188b47d390f84b6ec81187aa",
      "9d1588c4ecb1494aadb6ae691f6f891f",
      "6a972f96385d45739dedd6b8ae3bcb3d",
      "b6316d609b5c46a6a749c70e04875cdf",
      "bb010e1f9c2c42058331735c77dc91a2",
      "1b959c5f8aaf4a4bb00e38f566604e5d",
      "1d59367d07da4a048571ab20bb793e4c",
      "d568b489f3da4e0e9534cf1c64522ed6",
      "35d6ad6e5bbd4e1992ff0893a356fba6",
      "90aa14f44c5044cda47315651fc454b5",
      "fdd67c998ccb4941b1374fae3b64db95",
      "8c13903756fd4bc5a9a7b0f477188df8",
      "cb68d3740fdb45f4b953fe91a218ff32",
      "b4dbe8223d064018a8bdae3850d2d556",
      "03fd9d0e29314972b36c17cee411d385",
      "e7506e702ed647afbbe35a8eaf76d7aa",
      "e8c844c0c5844656a248caa426a98e06",
      "d83d1d4695bf464989120df80e32dfc4",
      "5ca51e1307224e098b2437a325cd305e",
      "adf9ffb7bf7246e7a9ab46358860be19",
      "1e3a91e767744b83804ba3e0ae851f20",
      "18ef0809544e424c9278f2d797688175",
      "df96f63cb58d4e369065d35185ec855e",
      "50c158996cb743899eb8757d68a31410",
      "931e9e43223543dea83fe217591f74fd",
      "d52ab078e0314051bbf59b1022213711",
      "e3dc4f2a408d41788ebeecbd1623c08a",
      "c965a3cf967e4cea81ce49590e83263e",
      "a43ae6adac8a4c099b41afdfb09af1e8",
      "579cfc17f9344b6d879b03f2289ae6b9",
      "3af8865e08534f4685923466294979b0",
      "4f891b785fa348f1ae312949198fee78",
      "3ee40fc5fa92445a91eb1b119315722b",
      "a811871a0a914b41bba665a16db1462a",
      "93cfc9eb680748269d89eecb37ca0f37",
      "e038d960ceaa482faeabbe924ff65910",
      "fc8a76c880504f869854f0369e21eba6",
      "e3fa731f089545f3b692304ad72e45fb",
      "a8f7b608a92342dfa8423a37c6ba0c54"
     ]
    },
    "id": "w8OAN4KRV8yV",
    "outputId": "1d606c5e-b4d8-499e-87aa-c67ebf426343"
   },
   "outputs": [],
   "source": [
    "from transformers import pipeline\n",
    "from langchain_community.llms import HuggingFacePipeline\n",
    "\n",
    "# Load small model\n",
    "flan_pipeline = pipeline(\n",
    "    \"text2text-generation\",\n",
    "    model=\"google/flan-t5-base\",   # change to flan-t5-small for even faster\n",
    "    max_length=512\n",
    ")\n",
    "\n",
    "llm = HuggingFacePipeline(pipeline=flan_pipeline)\n"
   ]
  },
  {
   "cell_type": "markdown",
   "metadata": {
    "id": "Bfz2NR2eckOU"
   },
   "source": [
    "**Retrieval Q&A**"
   ]
  },
  {
   "cell_type": "code",
   "execution_count": null,
   "metadata": {
    "colab": {
     "base_uri": "https://localhost:8080/"
    },
    "id": "lO6qP3H4WFvt",
    "outputId": "c3965b0b-4cb0-4a99-c1fd-286642c284a6"
   },
   "outputs": [],
   "source": [
    "from langchain.chains import RetrievalQA\n",
    "\n",
    "qa = RetrievalQA.from_chain_type(\n",
    "    llm=llm,\n",
    "    retriever=vectorstore.as_retriever(search_kwargs={\"k\": 3}),\n",
    "    chain_type=\"stuff\"\n",
    ")\n",
    "\n",
    "# Test\n",
    "query = \"Give me a short summary of the document\"\n",
    "print(qa.run(query))\n"
   ]
  },
  {
   "cell_type": "markdown",
   "metadata": {
    "id": "zm2HhK3lcqJV"
   },
   "source": [
    "**Chat Loop**"
   ]
  },
  {
   "cell_type": "code",
   "execution_count": null,
   "metadata": {
    "colab": {
     "base_uri": "https://localhost:8080/"
    },
    "id": "b5UrISlGWKwu",
    "outputId": "e7412412-cce2-4521-9303-b8f3f4eb83c5"
   },
   "outputs": [],
   "source": [
    "while True:\n",
    "    q = input(\"Ask a question (or 'exit'): \")\n",
    "    if q.lower() == \"exit\":\n",
    "        break\n",
    "    print(\"Answer:\", qa.run(q))\n"
   ]
  }
 ],
 "metadata": {
  "colab": {
   "provenance": []
  },
  "kernelspec": {
   "display_name": "Python 3",
   "name": "python3"
  },
  "language_info": {
   "name": "python"
  }
 },
 "nbformat": 4,
 "nbformat_minor": 0
}
