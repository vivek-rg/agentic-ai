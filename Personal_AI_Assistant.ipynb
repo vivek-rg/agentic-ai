{
 "cells": [
  {
   "cell_type": "markdown",
   "id": "2f2391fa",
   "metadata": {
    "id": "2f2391fa"
   },
   "source": [
    "#  Personal AI Assistant in Google Colab (No OpenAI Key Needed)\n",
    "This notebook will help you and your students build a simple **AI Assistant** using open-source models (no API key required)."
   ]
  },
  {
   "cell_type": "markdown",
   "id": "b43c26e3",
   "metadata": {
    "id": "b43c26e3"
   },
   "source": [
    "## Step 1: Install Transformers\n",
    "We will use Hugging Face Transformers library to run free AI models."
   ]
  },
  {
   "cell_type": "code",
   "execution_count": null,
   "id": "15faba37",
   "metadata": {
    "id": "15faba37"
   },
   "outputs": [],
   "source": [
    "!pip install transformers torch accelerate -q"
   ]
  },
  {
   "cell_type": "markdown",
   "id": "b7ff3c90",
   "metadata": {
    "id": "b7ff3c90"
   },
   "source": [
    "## Step 2: Import a Model\n",
    "We will use Google's **Flan-T5 Small** model for Q&A and chat."
   ]
  },
  {
   "cell_type": "code",
   "execution_count": null,
   "id": "55f578ea",
   "metadata": {
    "colab": {
     "base_uri": "https://localhost:8080/",
     "height": 386,
     "referenced_widgets": [
      "09a0c37edc934c46859f29ea83ebe9a8",
      "c7c404da2b1b49c58a51f952a4b5c29d",
      "8e5973e7b53441d88fd6ca41311fe783",
      "87c1bb18a38d4849a7831e1de446d70d",
      "1a91a2394f824d8eb3da2e01f3ff383f",
      "6ef8e5625d9d414b8e92a660620a7dbf",
      "0c32e142b3754bbc85ff43a37408424c",
      "180d672c97cb442da92705018d7ecf26",
      "3f535b4dc54f4e1d8e052707011b14df",
      "8fe7497521cc40d8a4b130f253e71417",
      "e74786dc94194b068e71eced6cfc81b9",
      "c4b3fa8388f9458f828bcafde8da543b",
      "e74f86ce53f94232be85d5044cfbec08",
      "c43a61f6ea53498686875a34703ef759",
      "47f8ea0f7e2f417fb44f23da5d95be59",
      "826f2e66446f416db005aabf81c9f812",
      "604eac87ae3b440b8ecc4c58ab5bacd3",
      "30ddb5a18ee14426b9c8dd97082ae5d2",
      "61aaef98abe54cd999d6878261eb1b6e",
      "766ab336ab5e4d0e83367b50ab45467e",
      "798062130ed7467aac6b5dcc4a4a7f7e",
      "5d0a9d77aa5b47a8a808de05ba0dce96",
      "da28043bee9043fa8ec7df519ffa7dfc",
      "509124722c97495a81627db39b9964e5",
      "49aa3815b958431d94846e5a2235fcf3",
      "a2316586830748cc9ecc9e3254d2d5bf",
      "397c563299824e77adb33efecf2dfec4",
      "9d395d20ab5c475d9528a12ecfaca4c3",
      "8e094670735f4486b661f7db7f60d629",
      "59239aa6add0438dace4bec5215f3c37",
      "b20be25f9ab3485bb5b499082e636b20",
      "90c4ea44a3514b29a20d52afd3356586",
      "6d9c5a5e24bc4c99acb49780402cf32f",
      "8afe28e75bad4e04b2951d369617287a",
      "02a5f146e8f3492ca7c012e909996dc2",
      "3af1f0deae7544ec81fca04b9be9029f",
      "73ee78c9078d4a5c8e4bbd4539547211",
      "9ef146a9673c4d1685064e12a49f2698",
      "4228754886644b1890059ea5bad79422",
      "06b00ebb92de4f56b880ce2ca70e665e",
      "f81564df513b4867b5bbd896fc155b83",
      "2ad9d77dffd849e6b0a7bed1d55c18f8",
      "59ccf3e25f114a0ebf29d66ebb585d14",
      "08e1d69cf01243d19db97e1e07ef1e61",
      "846279479f384d838397e7d508541add",
      "cb954a1634a147ebacd3c964695eda94",
      "16446ba093ce42ccad9d157311c9bb17",
      "45a0a9d34aab4eb1bfab3c6b0cc08b09",
      "73dfb5f918414507a5301f7c9412daf5",
      "e3e5cd2621cf4c42b9add61a3725960b",
      "1fe9f8f39d584c74b3fbc4e95c010c56",
      "aa25d61fe8ad4803b8a8f1f56749f22f",
      "f897c9843776494899b37c4a7bdc2299",
      "c950b48d01e74bacb59224d0eae5dfcd",
      "42ff3d2c3dcc4a21adf413962c0ec47f",
      "70ce9996545c4ff9a12c30575f1abec1",
      "a85a5b59b3404e5dbd26af6e42e98637",
      "1aa5b5c2fc924d7d91026fe2b01c2031",
      "ef266c95d48344fb82f4f6be7a7125a6",
      "2a21f0eba90f49efb9db9740f62cd295",
      "31510021a4a646c18ceba7e9d147beb6",
      "b061e68fd85246fa8434647b3c78af13",
      "0a0a78dcd442492c92f3993fb512a472",
      "19309b6650c146348fc81dfacc006b3f",
      "6553549b7ab342ca9a49f2fdd419ed43",
      "ac1185c129b5411bb6f9fef96dc9d13b",
      "bacc83e1eabb41598da883b7b479c4c8",
      "f3fdd78699cf4fee93fb77a24c02897b",
      "fceb0a99286f49149b901f1df6e448fe",
      "966a83fcc9a84655bf7fd935f8df2527",
      "d928519cdb814e0ea9ed685106455b21",
      "46c8252315534fc89060f8df78689d06",
      "a067b3d3da4745ca801c23717f46bcd5",
      "40cecdaaa1864f3f95c2a26288152ccc",
      "993f2f139b2b4d33bdfabbd18c4a4966",
      "2618df34119e41abb8dda2cdc50a4058",
      "eead25d72a8e478eac0c89a18b091d05"
     ]
    },
    "id": "55f578ea",
    "outputId": "7b6d2940-9627-4b2e-a502-17da8eab1d1a"
   },
   "outputs": [],
   "source": [
    "from transformers import pipeline\n",
    "\n",
    "# Load a small open-source model\n",
    "assistant = pipeline('text2text-generation', model='google/flan-t5-small')"
   ]
  },
  {
   "cell_type": "markdown",
   "id": "68a09f6f",
   "metadata": {
    "id": "68a09f6f"
   },
   "source": [
    "## Step 3: Build a Chat Function\n",
    "This function keeps track of chat history and generates AI responses."
   ]
  },
  {
   "cell_type": "code",
   "execution_count": null,
   "id": "752f053d",
   "metadata": {
    "id": "752f053d"
   },
   "outputs": [],
   "source": [
    "chat_history = []\n",
    "\n",
    "def ask_ai(user_input):\n",
    "    global chat_history\n",
    "    # Add user input to history\n",
    "    chat_history.append(f'User: {user_input}')\n",
    "\n",
    "    # Use last 5 turns as context\n",
    "    context = '\\n'.join(chat_history[-5:])\n",
    "\n",
    "    # Generate response\n",
    "    response = assistant(context)[0]['generated_text']\n",
    "\n",
    "    # Save response\n",
    "    chat_history.append(f'Assistant: {response}')\n",
    "    return response"
   ]
  },
  {
   "cell_type": "markdown",
   "id": "90ff65d0",
   "metadata": {
    "id": "90ff65d0"
   },
   "source": [
    "## Step 4: Chat with Your Assistant\n",
    "Now you can chat with your AI assistant directly in Colab. Type 'exit' to stop."
   ]
  },
  {
   "cell_type": "code",
   "execution_count": null,
   "id": "de7c7594",
   "metadata": {
    "colab": {
     "base_uri": "https://localhost:8080/"
    },
    "id": "de7c7594",
    "outputId": "9ed3055c-2c8d-4bd2-8896-3e37b0937707"
   },
   "outputs": [],
   "source": [
    "while True:\n",
    "    user_input = input('You: ')\n",
    "    if user_input.lower() in ['exit', 'quit', 'bye']:\n",
    "        print('👋 Assistant: Goodbye!')\n",
    "        break\n",
    "    reply = ask_ai(user_input)\n",
    "    print('🤖 Assistant:', reply)"
   ]
  }
 ],
 "metadata": {
  "colab": {
   "provenance": []
  },
  "kernelspec": {
   "display_name": "Python 3",
   "name": "python3"
  },
  "language_info": {
   "name": "python"
  }
 },
 "nbformat": 4,
 "nbformat_minor": 5
}
